{
 "cells": [
  {
   "cell_type": "markdown",
   "metadata": {},
   "source": [
    "#### 1 ) Program a function that given a causal graph (in matrix form) computes the basis set of independences to be checked to assert if that graph is a feasible causal structure."
   ]
  },
  {
   "cell_type": "code",
   "execution_count": 125,
   "metadata": {},
   "outputs": [],
   "source": [
    "import numpy as np\n",
    "import scipy.stats as st\n",
    "\n",
    "def generateMatrix(size):\n",
    "    return np.random.randint(0,2,size=(size, size))\n",
    "\n",
    "def getPairIndeps(matrix):\n",
    "    i=0\n",
    "    j=0\n",
    "    pairOfindep = list(list())\n",
    "    #First I go for every item in the matrix and get every pair of independent nodes\n",
    "    while i < len(matrix):\n",
    "        while j < len(matrix):\n",
    "            if matrix[i][j] == 0 and matrix[j][i] == 0 and i != j:\n",
    "                pairOfindep.append([chr(ord('A')+i),chr(ord('A')+j)])\n",
    "                #The chr(ord..) is to get an int from a char and viceversa.\n",
    "            j+=1\n",
    "        i+=1\n",
    "        j=0\n",
    "\n",
    "\n",
    "    index = int(len(pairOfindep)/2)    #I cut the list in half because of the repeated pairs.\n",
    "\n",
    "    return pairOfindep[:index]"
   ]
  },
  {
   "cell_type": "code",
   "execution_count": 154,
   "metadata": {},
   "outputs": [],
   "source": [
    "#Function for geting all parents of a letter\n",
    "def haveParent(letter, matrix):\n",
    "    parents = list()\n",
    "    number = ord(letter) - ord('A')\n",
    "    i=0\n",
    "    while i < len(matrix):\n",
    "        if(matrix[i][number] == 1):\n",
    "            parents.append(chr(ord('A')+i))\n",
    "        i+=1\n",
    "    return list(set(parents))                #In order to avoid repeated parents. (Messy but it does work)\n",
    " \n",
    "\n",
    "def getBasisSet(sizeOfMatrix):\n",
    "    matrix = generateMatrix(sizeOfMatrix)\n",
    "    pairOfindep = getPairIndeps(matrix)\n",
    "    basis_set = dict()\n",
    "    \n",
    "    for pair in pairOfindep:\n",
    "        l = haveParent(pair[0],matrix) + haveParent(pair[1],matrix)\n",
    "        basis_set[','.join(pair)] = l\n",
    "    return basis_set\n",
    "    \n"
   ]
  },
  {
   "cell_type": "code",
   "execution_count": 155,
   "metadata": {},
   "outputs": [
    {
     "data": {
      "text/plain": [
       "{'A,E': ['F', 'B', 'D', 'B', 'H', 'G'],\n",
       " 'B,F': ['C', 'B', 'G', 'F', 'G', 'E', 'H', 'C'],\n",
       " 'B,H': ['C', 'B', 'G', 'F', 'A', 'G', 'E', 'C', 'D'],\n",
       " 'C,E': ['C', 'B', 'A', 'F', 'B', 'H', 'G'],\n",
       " 'D,G': ['F', 'B', 'E', 'H', 'C', 'B', 'A', 'E', 'H', 'C']}"
      ]
     },
     "execution_count": 155,
     "metadata": {},
     "output_type": "execute_result"
    }
   ],
   "source": [
    "getBasisSet(8)"
   ]
  },
  {
   "cell_type": "markdown",
   "metadata": {},
   "source": [
    "#### 2)Program a function that given a ​basis set and data for all the variables computes the independences given the data (using Pearson Correlation) and returns True if the independences are observed. The threshold of correlation to consider independent or dependent two variables is a parameter of the function."
   ]
  },
  {
   "cell_type": "code",
   "execution_count": 156,
   "metadata": {},
   "outputs": [],
   "source": [
    "def getIndependencies(basis_set, data, n):\n",
    "    independencies = []\n",
    "    print(basis_set)\n",
    "    for p in basis_set:\n",
    "        pearson = st.pearsonr(random_data[ord(p[0]) - ord('A')], random_data[ord(p[2]) - ord('A')])[0]\n",
    "        tr = (pearson*(n-2)**1/2) * ((1-pearson**2)**1/2)\n",
    "        pval = st.t.sf(np.abs(tr), n-1)*2  \n",
    "        independencies.append([p[0],p[2],pval <= 0.0005])\n",
    "    \n",
    "    return independencies\n",
    "\n"
   ]
  },
  {
   "cell_type": "markdown",
   "metadata": {},
   "source": [
    "A couple of examples for random data:"
   ]
  },
  {
   "cell_type": "code",
   "execution_count": 157,
   "metadata": {},
   "outputs": [
    {
     "name": "stdout",
     "output_type": "stream",
     "text": [
      "{'A,B': ['D', 'I', 'G', 'J', 'B', 'G', 'J', 'D', 'I'], 'A,C': ['D', 'I', 'G', 'J', 'C', 'G', 'I'], 'B,A': ['B', 'G', 'J', 'D', 'I', 'D', 'I', 'G', 'J'], 'B,C': ['B', 'G', 'J', 'D', 'I', 'C', 'G', 'I'], 'B,H': ['B', 'G', 'J', 'D', 'I', 'A', 'G', 'E', 'H', 'C'], 'C,A': ['C', 'G', 'I', 'D', 'I', 'G', 'J'], 'C,B': ['C', 'G', 'I', 'B', 'G', 'J', 'D', 'I'], 'C,E': ['C', 'G', 'I', 'F', 'B', 'A', 'G', 'E', 'H', 'I'], 'C,J': ['C', 'G', 'I', 'E', 'G', 'I'], 'D,E': ['F', 'B', 'H', 'C', 'I', 'F', 'B', 'A', 'G', 'E', 'H', 'I'], 'D,J': ['F', 'B', 'H', 'C', 'I', 'E', 'G', 'I']}\n"
     ]
    },
    {
     "data": {
      "text/plain": [
       "[['A', 'B', True],\n",
       " ['A', 'C', True],\n",
       " ['B', 'A', True],\n",
       " ['B', 'C', True],\n",
       " ['B', 'H', True],\n",
       " ['C', 'A', True],\n",
       " ['C', 'B', True],\n",
       " ['C', 'E', True],\n",
       " ['C', 'J', True],\n",
       " ['D', 'E', True],\n",
       " ['D', 'J', True]]"
      ]
     },
     "execution_count": 157,
     "metadata": {},
     "output_type": "execute_result"
    }
   ],
   "source": [
    "n = 200\n",
    "numberOfNodes = 10\n",
    "random_data = np.random.randint(0,n,size=(n, numberOfNodes))\n",
    "getIndependencies(getBasisSet(numberOfNodes), random_data, n)"
   ]
  },
  {
   "cell_type": "code",
   "execution_count": 158,
   "metadata": {},
   "outputs": [
    {
     "name": "stdout",
     "output_type": "stream",
     "text": [
      "{'A,D': ['C', 'B', 'A', 'E', 'E', 'B', 'D'], 'C,D': ['E', 'B', 'A', 'E', 'B', 'D']}\n"
     ]
    },
    {
     "data": {
      "text/plain": [
       "[['A', 'D', False], ['C', 'D', True]]"
      ]
     },
     "execution_count": 158,
     "metadata": {},
     "output_type": "execute_result"
    }
   ],
   "source": [
    "n = 100\n",
    "numberOfNodes = 5\n",
    "random_data = np.random.randint(0,n,size=(n, numberOfNodes))\n",
    "getIndependencies(getBasisSet(numberOfNodes), random_data, n)"
   ]
  },
  {
   "cell_type": "code",
   "execution_count": 159,
   "metadata": {},
   "outputs": [
    {
     "name": "stdout",
     "output_type": "stream",
     "text": [
      "{'A,B': ['C', 'D', 'E', 'C', 'D', 'E'], 'B,A': ['C', 'D', 'E', 'C', 'D', 'E']}\n"
     ]
    },
    {
     "data": {
      "text/plain": [
       "[['A', 'B', True], ['B', 'A', True]]"
      ]
     },
     "execution_count": 159,
     "metadata": {},
     "output_type": "execute_result"
    }
   ],
   "source": [
    "n = 300\n",
    "numberOfNodes = 5\n",
    "random_data = np.random.randint(0,n,size=(n, numberOfNodes))\n",
    "getIndependencies(getBasisSet(numberOfNodes), random_data, n)"
   ]
  },
  {
   "cell_type": "code",
   "execution_count": null,
   "metadata": {},
   "outputs": [],
   "source": []
  }
 ],
 "metadata": {
  "kernelspec": {
   "display_name": "Python 3",
   "language": "python",
   "name": "python3"
  },
  "language_info": {
   "codemirror_mode": {
    "name": "ipython",
    "version": 3
   },
   "file_extension": ".py",
   "mimetype": "text/x-python",
   "name": "python",
   "nbconvert_exporter": "python",
   "pygments_lexer": "ipython3",
   "version": "3.7.4"
  }
 },
 "nbformat": 4,
 "nbformat_minor": 4
}
