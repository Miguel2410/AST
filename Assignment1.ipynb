{
 "cells": [
  {
   "cell_type": "markdown",
   "metadata": {},
   "source": [
    "# Assignment 1 - General"
   ]
  },
  {
   "cell_type": "markdown",
   "metadata": {},
   "source": [
    "1) Write a function that list all the possible outcomes with five dice."
   ]
  },
  {
   "cell_type": "code",
   "execution_count": 217,
   "metadata": {},
   "outputs": [],
   "source": [
    "def listAll(numberofDices=5):\n",
    "    results = [[]]\n",
    "    for k in range(numberofDices):\n",
    "        resultsCopy = results[:]\n",
    "        results = []\n",
    "        for i in resultsCopy:\n",
    "            for j in [1,2,3,4,5,6]:\n",
    "                results.append(i + [j])\n",
    "    return results"
   ]
  },
  {
   "cell_type": "markdown",
   "metadata": {},
   "source": [
    "2) Write a function that takes a number of dices and return all the possible outcomes for that amount of dices."
   ]
  },
  {
   "cell_type": "markdown",
   "metadata": {},
   "source": [
    "**The last function already does that**"
   ]
  },
  {
   "cell_type": "markdown",
   "metadata": {},
   "source": [
    "3) Write functions that return, given five dice, True or False if we have Straight, Full, Poker or Generala."
   ]
  },
  {
   "cell_type": "code",
   "execution_count": 218,
   "metadata": {},
   "outputs": [],
   "source": [
    "def haveIStraight(dices, numberofDices = 5):\n",
    "    if(len(dices) != numberofDices):\n",
    "        print(\"Check the number of dices\")\n",
    "    else:\n",
    "        dices.sort()\n",
    "        for i in range(numberofDices-1):            \n",
    "            if(dices[i] == dices[i+1]):\n",
    "                return False\n",
    "        return True\n",
    "\n",
    "def haveIFull(dices, numberofDices = 5):\n",
    "    \n",
    "    if(len(dices) != numberofDices):\n",
    "        print(\"Check the number of dices\")\n",
    "    else:\n",
    "        dices.sort()\n",
    "        element1 = dices[0]\n",
    "        element2 = dices[numberofDices-1]\n",
    "        if((dices.count(element1) == 2 and dices.count(element2) == 3) or (dices.count(element1) == 3 and dices.count(element2) == 2)):\n",
    "            return True\n",
    "        return False\n",
    "    \n",
    "def haveIPoker(dices, numberofDices = 5):\n",
    "    if(len(dices) != numberofDices):\n",
    "        print(\"Check the number of dices\")\n",
    "    else:\n",
    "        dices.sort()\n",
    "        element1 = dices[0]\n",
    "        element2 = dices[numberofDices-1]\n",
    "        if((dices.count(element1) == 4 or dices.count(element2) == 4) and element1 != element2):\n",
    "            return True\n",
    "        return False\n",
    "\n",
    "def haveIGenerala(dices, numberofDices = 5):\n",
    "    if(len(dices) != numberofDices):\n",
    "        print(\"Check the number of dices\")\n",
    "    else:\n",
    "        return dices.count(dices[0]) == numberofDices\n",
    "    "
   ]
  },
  {
   "cell_type": "markdown",
   "metadata": {},
   "source": [
    "4) Compute the probabilities that you already computed by hand by counting the outcomes describing each roll result in the list of all possible hands ​served​."
   ]
  },
  {
   "cell_type": "code",
   "execution_count": 225,
   "metadata": {},
   "outputs": [
    {
     "data": {
      "text/plain": [
       "{'Poker': 0.05787037037037037,\n",
       " 'Full': 0.11574074074074074,\n",
       " 'Straight': 0.2777777777777778,\n",
       " 'Generala': 0.0023148148148148147}"
      ]
     },
     "execution_count": 225,
     "metadata": {},
     "output_type": "execute_result"
    }
   ],
   "source": [
    "def probStraightFirstRound(outcomes, numberofDices = 5):\n",
    "    i=0\n",
    "    straight=0\n",
    "    while i<len(outcomes):\n",
    "        if(haveIStraight(outcomes[i], numberofDices)):\n",
    "            straight += 1\n",
    "        i+=1\n",
    "    return straight/len(outcomes)\n",
    "def probabilitiesServed(numberofDices = 5):\n",
    "    dict = {}\n",
    "    outcomes = listAll(numberofDices)\n",
    "    full = 0\n",
    "    straight = 0 \n",
    "    generala = 0\n",
    "    poker = 0\n",
    "    i=0\n",
    "    while i<len(outcomes):\n",
    "        if(haveIFull(outcomes[i], numberofDices)):\n",
    "            full += 1\n",
    "        if(haveIGenerala(outcomes[i], numberofDices)):\n",
    "            generala += 1\n",
    "        if(haveIPoker(outcomes[i], numberofDices)):\n",
    "            poker += 1\n",
    "        i+=1\n",
    "        \n",
    "    dict = { \"Poker\" : 3*poker/len(outcomes),\n",
    "             \"Full\" : 3*full/len(outcomes),\n",
    "             \"Straight\" : 3*probStraightFirstRound(outcomes, numberofDices),\n",
    "             \"Generala\" : 3*generala/len(outcomes)}\n",
    "    \n",
    "    #print(\"Probs: \")\n",
    "    #print(\"Poker = %f \" % (poker/len(outcomes)))\n",
    "    #print(\"Full = %f \" % (full/len(outcomes)))\n",
    "    #print(\"Generala = %f \" % (generala/len(outcomes)))\n",
    "    #print(\"Straight = %f \" % (probStraightFirstRound(outcomes)))\n",
    "    return dict\n",
    "\n",
    "probabilitiesServed()"
   ]
  },
  {
   "cell_type": "markdown",
   "metadata": {},
   "source": [
    "5) Compute the probabilities that you already computed by hand by counting the outcomes describing each roll result in the list of all possible hands."
   ]
  },
  {
   "cell_type": "code",
   "execution_count": 227,
   "metadata": {},
   "outputs": [
    {
     "name": "stdout",
     "output_type": "stream",
     "text": [
      "Probabilities:\n",
      "Poker = 0.000000 \n",
      "Full = 0.000000 \n",
      "Generala = 0.013889 \n",
      "Straight = 0.833333 \n",
      "Probabilities:\n",
      "Poker = 0.000000 \n",
      "Full = 0.000000 \n",
      "Generala = 0.013889 \n",
      "Straight = 0.833333 \n",
      "Probabilities:\n",
      "Poker = 0.000000 \n",
      "Full = 0.000000 \n",
      "Generala = 0.013889 \n",
      "Straight = 0.833333 \n",
      "None\n"
     ]
    }
   ],
   "source": [
    "'''class Tree(object):\n",
    "    def __init__(self):\n",
    "        self.left = None\n",
    "        self.child = []\n",
    "        self.data = {}\n",
    "\n",
    "def probSiguientesTiradas(root, numberofDices = 5):\n",
    "    \n",
    "    root.data = probabilitiesServed(numberofDices)\n",
    "    \n",
    "    for i in range (0,5):\n",
    "        root.child = [Tree()]*5\n",
    "        probSiguientesTiradas(root.child[i], numberofDices = numberofDices-i)\n",
    "        #return probSiguientesTiradas(numberofDices = numberofDices-i, dict = dict)\n",
    "       \n",
    "    return root     \n",
    "'''    \n"
   ]
  },
  {
   "cell_type": "markdown",
   "metadata": {},
   "source": [
    "6) Write a function that simulate a roll with n fair dices."
   ]
  },
  {
   "cell_type": "code",
   "execution_count": 81,
   "metadata": {},
   "outputs": [
    {
     "data": {
      "text/plain": [
       "[1, 2, 3]"
      ]
     },
     "execution_count": 81,
     "metadata": {},
     "output_type": "execute_result"
    }
   ],
   "source": [
    "import random as random\n",
    "def randomRoll(numberofDices = 5):\n",
    "    result = list()\n",
    "    for i in range(numberofDices):\n",
    "        result.append(random.randrange(1,7,1))\n",
    "    return result\n",
    "\n",
    "randomRoll(3)\n",
    "        "
   ]
  },
  {
   "cell_type": "markdown",
   "metadata": {},
   "source": [
    "7) Write a function that plays automatically, always looking for a Generala with a greedy strategy (always keeping the most dices of the same kind and rolling the others) that returns True if we get a Generala and a False otherwise."
   ]
  },
  {
   "cell_type": "code",
   "execution_count": 221,
   "metadata": {},
   "outputs": [
    {
     "data": {
      "text/plain": [
       "False"
      ]
     },
     "execution_count": 221,
     "metadata": {},
     "output_type": "execute_result"
    }
   ],
   "source": [
    "def getDicesRepeated(dices):\n",
    "    rep = dices[0]\n",
    "    for i in dices:\n",
    "        if(dices.count(rep) < dices.count(i)):\n",
    "            rep = i\n",
    "    return (rep, dices.count(rep))\n",
    "        \n",
    "def addToList(lista, number, reps):\n",
    "    for i in range(reps):\n",
    "        lista.append(number)\n",
    "    return lista    \n",
    "    \n",
    "def lookingForGenerala(numberofDices = 5):\n",
    "    result = randomRoll(numberofDices)\n",
    "    \n",
    "    if haveIGenerala(result,len(result)):\n",
    "        return True\n",
    "    else:\n",
    "        number, repes = getDicesRepeated(result)\n",
    "        result = randomRoll(numberofDices-repes)\n",
    "        \n",
    "        addToList(result, number, repes)\n",
    "        \n",
    "        if haveIGenerala(result,len(result)):\n",
    "           return True\n",
    "        else:\n",
    "           repes = result.count(number)\n",
    "           result = randomRoll(numberofDices-repes)\n",
    "           addToList(result, number, repes)\n",
    "           if haveIGenerala(result,len(result)):\n",
    "              return True\n",
    "           else: \n",
    "              return False\n",
    "\n",
    "lookingForGenerala()\n",
    "                        "
   ]
  },
  {
   "cell_type": "code",
   "execution_count": 222,
   "metadata": {},
   "outputs": [],
   "source": [
    "def lookingForGeneralaResults(numberofDices = 5):\n",
    "    result = randomRoll(numberofDices)\n",
    "    \n",
    "    if haveIGenerala(result,len(result)):\n",
    "        return result\n",
    "    else:\n",
    "        number, repes = getDicesRepeated(result)\n",
    "        result = randomRoll(numberofDices-repes)\n",
    "        \n",
    "        addToList(result, number, repes)\n",
    "        \n",
    "        if haveIGenerala(result,len(result)):\n",
    "           return result\n",
    "        else:\n",
    "           repes = result.count(number)\n",
    "           result = randomRoll(numberofDices-repes)\n",
    "           addToList(result, number, repes)\n",
    "           if haveIGenerala(result,len(result)):\n",
    "              return result\n",
    "           else: \n",
    "              return result\n",
    "\n"
   ]
  },
  {
   "cell_type": "markdown",
   "metadata": {},
   "source": [
    "7b) Which kind of distribution follow this function results? Explain your reasoning within the delivered python notebook."
   ]
  },
  {
   "cell_type": "code",
   "execution_count": 223,
   "metadata": {},
   "outputs": [
    {
     "data": {
      "image/png": "[encoded data removed]",
      "text/plain": [
       "<Figure size 432x288 with 1 Axes>"
      ]
     },
     "metadata": {
      "needs_background": "light"
     },
     "output_type": "display_data"
    }
   ],
   "source": [
    " %matplotlib inline\n",
    "import matplotlib.pyplot as plt\n",
    "x = list()\n",
    "for i in range(5000):\n",
    "    x.extend(lookingForGeneralaResults())\n",
    "\n",
    "plt.hist(x, bins = 6, width = 0.5)\n",
    "plt.gca().set(title='Frequency Histogram', ylabel='Frequency');"
   ]
  },
  {
   "cell_type": "markdown",
   "metadata": {},
   "source": [
    "The results follow an uniform discrete distribution, as every value (from 1 to 6) has the same probability of coming up in every dice, in every roll (Only if the dices are fair)."
   ]
  },
  {
   "cell_type": "markdown",
   "metadata": {},
   "source": [
    "8) Write a function that plays until it gets a Generala, count how many times it had to play to get it and return this number."
   ]
  },
  {
   "cell_type": "code",
   "execution_count": 198,
   "metadata": {},
   "outputs": [
    {
     "data": {
      "text/plain": [
       "3"
      ]
     },
     "execution_count": 198,
     "metadata": {},
     "output_type": "execute_result"
    }
   ],
   "source": [
    "def playUntilGenerala():\n",
    "    result = lookingForGenerala()\n",
    "    count = 1\n",
    "    while result is False:\n",
    "        result = lookingForGenerala()\n",
    "        count +=1\n",
    "        return count\n",
    "\n",
    "playUntilGenerala()"
   ]
  },
  {
   "cell_type": "markdown",
   "metadata": {},
   "source": [
    "8b) Which kind of distribution follow this function results? Explain your reasoning within the delivered python notebook."
   ]
  },
  {
   "cell_type": "code",
   "execution_count": 213,
   "metadata": {},
   "outputs": [
    {
     "data": {
      "image/png": "[encoded data removed]",
      "text/plain": [
       "<Figure size 432x288 with 1 Axes>"
      ]
     },
     "metadata": {
      "needs_background": "light"
     },
     "output_type": "display_data"
    }
   ],
   "source": [
    "\n",
    "x = list()\n",
    "for i in range(5000):\n",
    "    x.append(playUntilGenerala())\n",
    "\n",
    "plt.hist(x, bins = range(min(x), 100))\n",
    "plt.gca().set(title='Frequency Histogram', ylabel='Frequency', xlabel='Nº times played');"
   ]
  },
  {
   "cell_type": "markdown",
   "metadata": {},
   "source": [
    "The data follows a logarithmic distribution, it can be seen that the necessary number of times descends logarithmically. This is logical, because we throw the dices a lot of times and eventually we will get to Generala after not a lot of times. This is because we are keepeng the most dices every roll, if we did it randomly (not keeping dices) we would obtain a much bigger logarithm (as seen below).  I'd say that the more times we throw the dices, we have more probability of getting Generala. \n"
   ]
  },
  {
   "cell_type": "code",
   "execution_count": 224,
   "metadata": {},
   "outputs": [
    {
     "data": {
      "image/png": "[encoded data removed]",
      "text/plain": [
       "<Figure size 432x288 with 1 Axes>"
      ]
     },
     "metadata": {
      "needs_background": "light"
     },
     "output_type": "display_data"
    }
   ],
   "source": [
    "def lookingForGeneralaPrueba(numberofDices = 5):\n",
    "    result = randomRoll(numberofDices)\n",
    "    \n",
    "    if haveIGenerala(result,len(result)):\n",
    "        return True\n",
    "    else:\n",
    "        return False\n",
    "    \n",
    "def playUntilGeneralaPrueba():\n",
    "    result = lookingForGeneralaPrueba()\n",
    "    count = 1\n",
    "    while result is False:\n",
    "        result = lookingForGeneralaPrueba()\n",
    "        count +=1\n",
    "    return count\n",
    "\n",
    "x = list()\n",
    "for i in range(5000):\n",
    "    x.append(playUntilGeneralaPrueba())\n",
    "\n",
    "plt.hist(x, bins = range(min(x), max(x)))\n",
    "plt.gca().set(title='Frequency Histogram', ylabel='Frequency', xlabel='Nº times played');   "
   ]
  },
  {
   "cell_type": "code",
   "execution_count": null,
   "metadata": {},
   "outputs": [],
   "source": []
  }
 ],
 "metadata": {
  "kernelspec": {
   "display_name": "Python 3",
   "language": "python",
   "name": "python3"
  },
  "language_info": {
   "codemirror_mode": {
    "name": "ipython",
    "version": 3
   },
   "file_extension": ".py",
   "mimetype": "text/x-python",
   "name": "python",
   "nbconvert_exporter": "python",
   "pygments_lexer": "ipython3",
   "version": "3.7.4"
  }
 },
 "nbformat": 4,
 "nbformat_minor": 4
}
